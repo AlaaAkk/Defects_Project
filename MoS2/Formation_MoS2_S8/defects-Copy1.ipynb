{
 "cells": [
  {
   "cell_type": "code",
   "execution_count": null,
   "metadata": {},
   "outputs": [],
   "source": [
    "import  pandas as pd\n",
    "import matplotlib.pyplot as plt\n",
    "import numpy as np\n",
    "from numpy import array, reshape, zeros, append, arange\n",
    "import math\n",
    "from math import log, e, pi\n",
    "import numpy\n",
    "from sys import argv"
   ]
  },
  {
   "cell_type": "markdown",
   "metadata": {},
   "source": [
    "# Formation energy as  chemical potential vary\n"
   ]
  },
  {
   "cell_type": "markdown",
   "metadata": {},
   "source": [
    " #### Total Energies in eV"
   ]
  },
  {
   "cell_type": "code",
   "execution_count": null,
   "metadata": {},
   "outputs": [],
   "source": [
    "E0=-3324932.942491689 # pristine\n",
    "E1=-3335811.405118595 # addon S\n",
    "E2=-3314050.981984572 # mono S vacancy\n",
    "E3=-3303169.531834886 # di S vacancy up&down\n",
    "E4=-3303169.508929158 # di S vacancy neighboring\n",
    "E5=-3213688.902122602 # mono Mo vacancy\n",
    "E_MoS2=-132997.116189474 # primtitive\n",
    "mu_MoS2=E0/75\n"
   ]
  },
  {
   "cell_type": "markdown",
   "metadata": {},
   "source": [
    "### For S8 ring"
   ]
  },
  {
   "cell_type": "code",
   "execution_count": null,
   "metadata": {},
   "outputs": [],
   "source": [
    "ES8=-87031.346957    #8 atoms in unitcell\n",
    "mu_S8=ES8/8\n",
    "#print(mu_S8)"
   ]
  },
  {
   "cell_type": "markdown",
   "metadata": {},
   "source": [
    " ## $$ E^{d}_{f}=E_{defect}(n_{i}+\\Delta n_{i})-E_{pristine}(n_{i}) - \\sum_{i} \\Delta n_{i} \\mu_{i} $$\n",
    " \n",
    "## $$  E^{Bulk}_{MoS_{2}}-2\\mu_{S8} \\leq \\mu_{Mo} \\leq \\mu^{Bulk}_{Mo} $$\n",
    "## $$ \\frac{1}{2}(E_{MoS2}-\\mu^{Bulk}_{Mo})\\leq \\mu_{S} \\leq \\mu_{S8} $$\n"
   ]
  },
  {
   "cell_type": "code",
   "execution_count": null,
   "metadata": {},
   "outputs": [],
   "source": [
    "EMo=-222473.348568306  # Total energy in eV\n",
    "mu_Mobcc=EMo/2\n",
    "mu_S0_i=0.5*(E_MoS2-mu_Mobcc)\n",
    "mu_Mo_i=E_MoS2-2*mu_S8\n",
    "mu_Mo_f=mu_Mobcc\n",
    "mu_S0_f=mu_S8\n",
    "\n",
    "mu_S0=arange(mu_S0_i,mu_S0_f,0.05)\n",
    "mu_Mo0=arange(mu_Mo_i,mu_Mo_f,0.05)\n",
    "Ef_addS =[] \n",
    "Ef_VS = []\n",
    "Ef_VS2 =[]\n",
    "Ef_VS22=[]\n",
    "Ef_Mo=[]\n",
    "\n",
    "for i in mu_S0:\n",
    "    Ef_addS.append(E1-E0-i) \n",
    "    Ef_VS.append(E2-E0+i)\n",
    "    Ef_VS2.append(E3-E0+2*i) \n",
    "    Ef_VS22.append(E4-E0+2*i)\n",
    "    \n",
    "for j in mu_Mo0:\n",
    "    Ef_Mo.append(E5-E0+j)\n",
    "   \n",
    "plt.plot(mu_S0-mu_S0_f,Ef_addS,'b', label='addon S') \n",
    "plt.plot(mu_S0-mu_S0_f,Ef_VS,'r', label='Mono S vacancy') \n",
    "plt.plot(mu_S0-mu_S0_f,Ef_VS22, 'g', label='di S vacancy(neig)') \n",
    "plt.plot(mu_S0-mu_S0_f,Ef_VS2, 'k', label='di S vacancy(up&down)') \n",
    "#plt.plot(T, VMo, 'yellow', label='Mono Mo vacany') \n",
    "plt.xlabel('\\Delta mu_S', fontsize=12)\n",
    "plt.ylabel('Formation energies eV', fontsize=12)\n",
    "plt.legend(fontsize=6)\n",
    "plt.yticks(fontsize=10)\n",
    "plt.tight_layout()\n",
    "#\n",
    "\n",
    "plt.savefig('Efvsmu_S.png',dpi=1200)\n",
    "\n",
    "plt.show()\n"
   ]
  },
  {
   "cell_type": "code",
   "execution_count": null,
   "metadata": {},
   "outputs": [],
   "source": [
    "plt.plot(mu_Mo0-mu_Mo_f,Ef_Mo, 'yellow', label='Mono Mo vacancy') \n",
    "#plt.plot(T, VMo, 'yellow', label='Mono Mo vacany') \n",
    "plt.xlabel('\\Delta mu_Mo', fontsize=12)\n",
    "plt.ylabel('Formation energies eV', fontsize=12)\n",
    "plt.legend(fontsize=6)\n",
    "plt.yticks(fontsize=10)\n",
    "plt.tight_layout()\n",
    "#\n",
    "plt.savefig('Efvsmu_Mo.png',dpi=1200)\n",
    "plt.show()  "
   ]
  },
  {
   "cell_type": "markdown",
   "metadata": {},
   "source": [
    "# Calculation of $\\mu_S$ on full temperature Range"
   ]
  },
  {
   "cell_type": "code",
   "execution_count": null,
   "metadata": {},
   "outputs": [],
   "source": [
    "p0=1e+06  # \n",
    "k=1.380649e-16\n",
    "h=6.62607015e-27\n",
    "hbar=1.054571817e-27\n",
    "sigma=8\n",
    "pi=3.14159265359\n",
    "m=3.1941378e-22\n",
    "IA=IB=1.314051643394595e-37\n",
    "IC=2.42660958899724e-37\n",
    "R=8.31446261815324\n",
    "convert=29979245800.0*2*pi #cm^-1 to Hz"
   ]
  },
  {
   "cell_type": "markdown",
   "metadata": {},
   "source": [
    "## $$\\mu=   \\mu_{0}+ kT \\ln\\frac{p}{p_{0}}+ E_{DFT}+ \\sum_{i}\\frac{\\hbar \\omega_{i}}{2}$$"
   ]
  },
  {
   "cell_type": "markdown",
   "metadata": {},
   "source": [
    "## $$  \\mu_{0}=R\\ln\\frac{Z^{0}}{V} \\frac{kT}{p_{0}} = -kT\\ln [(\\frac{2 \\pi m }{ h^{2}})^{\\frac{3}{2}}\\frac{(kT)^{\\frac{5}{2}}}{p_{0}}]- kT \\ln(\\frac{\\pi^{\\frac{1}{2}}}{\\sigma})+ \\\\ \n",
    "    -kT \\ln ((\\frac{8 \\pi kT}{h^{2}})^{\\frac{3}{2}}I_{A}^{\\frac{1}{2}} I_{B}^{\\frac{1}{2}} I_{C}^{\\frac{1}{2}})+kT \\sum^{3N-6}_{i} \\ln(1-exp(-\\beta h \\omega_{i})) $$"
   ]
  },
  {
   "cell_type": "markdown",
   "metadata": {},
   "source": [
    "## $$ A=\\ln( \\frac{Z^{0}_{trans} kT}{V})=\\ln [(\\frac{2 \\pi m }{ h^{2}})^{\\frac{3}{2}}\\frac{(kT)^{\\frac{5}{2}}}{p_{0}}]= \\ln [(2 \\pi m )^{\\frac{3}{2}}\\frac{(kT)^{\\frac{5}{2}}}{h^{3} p_{0}}]$$"
   ]
  },
  {
   "cell_type": "code",
   "execution_count": null,
   "metadata": {},
   "outputs": [],
   "source": [
    "A=[]\n",
    "T=800\n",
    "A = np.log((((2*pi*m)**(3/2))*((k*T)**(5/2)))/(p0*(h**3)))\n",
    "#print('A= ', A)\n"
   ]
  },
  {
   "cell_type": "markdown",
   "metadata": {},
   "source": [
    "##  $$ B= \\ln Z^{0}_{rot}=\\ln(\\frac{\\pi^{\\frac{1}{2}}}{\\sigma})+ \\ln ((\\frac{8 \\pi kT}{h^{2}})^{\\frac{3}{2}}I_{A}^{\\frac{1}{2}} I_{B}^{\\frac{1}{2}} I_{C}^{\\frac{1}{2}})$$"
   ]
  },
  {
   "cell_type": "code",
   "execution_count": null,
   "metadata": {},
   "outputs": [],
   "source": [
    "B=[]\n",
    "T=800\n",
    "I=np.sqrt(IA)*np.sqrt(IB)*np.sqrt(IC)\n",
    "B=np.log(np.sqrt(pi)/sigma)+ np.log((((8*pi*k*T)/(h**2))**(3/2))*I)\n",
    "#print('B= ', B)"
   ]
  },
  {
   "cell_type": "markdown",
   "metadata": {},
   "source": [
    "## $$ C=\\ln Z^{0}_{vib}= -\\sum^{3N-6}_{i} \\ln(1-exp(-\\frac{ \\hbar \\omega_{i}}{kT}))$$"
   ]
  },
  {
   "cell_type": "code",
   "execution_count": null,
   "metadata": {},
   "outputs": [],
   "source": [
    "C=[]\n",
    "w=[2.10968990e-01, 7.42646474e+01, 7.43325628e+01, 1.36225482e+02,\n",
    " 1.36290076e+02, 1.85771263e+02, 1.85786796e+02, 2.12035325e+02,\n",
    " 2.28606326e+02, 2.45210844e+02, 2.45241312e+02, 3.56870108e+02,\n",
    " 3.90002968e+02, 3.90080384e+02, 4.51735833e+02, 4.51793806e+02,\n",
    " 4.61001272e+02, 4.61044236e+02, 4.70393264e+02]\n",
    "w=np.array(w)*convert\n",
    "T=800\n",
    "temp=-numpy.array([(np.log(1-math.exp(-(hbar*i)/(k*T)))) for i in w])\n",
    "C=np.sum(temp)\n",
    "   \n",
    "#print('C= ', C)"
   ]
  },
  {
   "cell_type": "markdown",
   "metadata": {},
   "source": [
    "## $$\\sum_{i}\\frac{\\hbar \\omega_{i}}{2}$$"
   ]
  },
  {
   "cell_type": "code",
   "execution_count": null,
   "metadata": {},
   "outputs": [],
   "source": [
    "D=[]\n",
    "\n",
    "temp=numpy.array([(hbar*i)/(2) for i in w])\n",
    "D=np.sum(temp)\n",
    "#print('D= ', D)"
   ]
  },
  {
   "cell_type": "code",
   "execution_count": null,
   "metadata": {},
   "outputs": [],
   "source": [
    "k=8.617333262145e-05 ###########\n",
    "T=800\n",
    "mu_0=-k*T*(A+B+C)\n"
   ]
  },
  {
   "cell_type": "markdown",
   "metadata": {},
   "source": [
    "## $$ \\mu=\\mu_{0}+ kT \\ln\\frac{p}{p_{0}}+ E_{DFT}+ \\sum_{i}\\frac{\\hbar \\omega_{i}}{2}$$"
   ]
  },
  {
   "cell_type": "code",
   "execution_count": null,
   "metadata": {},
   "outputs": [],
   "source": [
    "E_DFT=-87031.346957 #ev\n",
    "#p=1914.57 # 1.89e-3 atm \n",
    "#for p in arange(p0/1e+12,p0):\n",
    "#    print(k*T*np.log(p/p0))"
   ]
  },
  {
   "cell_type": "code",
   "execution_count": null,
   "metadata": {},
   "outputs": [],
   "source": [
    "T=800\n",
    "mu_S8=[]\n",
    "for p in arange(0,3010,100):    \n",
    "   \n",
    "     mu_S8=np.append(mu_0 + k*T*np.log(p/p0)+D + E_DFT,mu_S8)\n",
    "p=arange(0,3010,100)  #      0.00096784110535406 \n",
    "plt.plot(p,mu_S8, 'red', label='For S8 ring')\n",
    "plt.xlabel('P in K', fontsize=12)\n",
    "plt.ylabel('mu eV', fontsize=12)\n",
    "plt.legend(fontsize=6)\n",
    "plt.yticks(fontsize=10)\n",
    "plt.tight_layout()"
   ]
  },
  {
   "cell_type": "code",
   "execution_count": null,
   "metadata": {},
   "outputs": [],
   "source": [
    "mu_S=mu_S8/8\n",
    "plt.plot(p,mu_S, 'blue', label='For S')\n",
    "plt.xlabel('p in K', fontsize=12)\n",
    "plt.ylabel('mu eV', fontsize=12)\n",
    "plt.legend(fontsize=6)\n",
    "plt.yticks(fontsize=10)\n",
    "plt.tight_layout()\n",
    "plt.savefig('mu_SvsT.png',dpi=1200)"
   ]
  },
  {
   "cell_type": "markdown",
   "metadata": {},
   "source": [
    "# Calculation of $\\mu_{Mo}$ on full temperature Range"
   ]
  },
  {
   "cell_type": "markdown",
   "metadata": {},
   "source": [
    "#### For Mo BCC bulk\n",
    "$$ \\mu_{Mo}^{BCC}=\\frac{1}{2}(E_{DFT}+ PV) + \\frac{1}{2} F_{phon}(V,T) $$"
   ]
  },
  {
   "cell_type": "code",
   "execution_count": null,
   "metadata": {},
   "outputs": [],
   "source": [
    "EMo=-222473.348568306  # Total energy in eV\n",
    "mu_Mobcc=EMo/2\n",
    "print(mu_Mobcc)\n",
    "d6=pd.read_csv('F_Mo', sep='\\s+',header=0)\n",
    "Fphon=d6['x']*0.01 # kj/mol to eV\n",
    "Fphon=Fphon[71] # 800 k only\n",
    "\n",
    "V= 0.292849E+02 # volume of unitcell A^3\n",
    "#p= 1e-06 #8.4473718e-12 # atm\n",
    "mu_Mo=[]\n",
    "T=800\n",
    "\n",
    "for p in arange(1.12e-15,1e-1,1e-6):\n",
    "    mu_Mo=np.append(((1/2)*(EMo+(p*V*6.3242093e-07)+ Fphon)), mu_Mo) # to eV\n",
    "print(mu_Mo)    \n",
    "p=arange(1.12e-15,1e-1,1e-6) \n",
    "plt.plot(p, mu_Mo, 'blue', label='For Mo')\n",
    "plt.xlabel('p in K', fontsize=12)\n",
    "plt.ylabel('mu eV', fontsize=12)\n",
    "plt.legend(fontsize=6)\n",
    "plt.yticks(fontsize=10)\n",
    "plt.tight_layout()\n",
    "plt.savefig('mu_MovsT.png',dpi=1200)"
   ]
  },
  {
   "cell_type": "markdown",
   "metadata": {},
   "source": [
    "#### Read the frequencies"
   ]
  },
  {
   "cell_type": "code",
   "execution_count": null,
   "metadata": {},
   "outputs": [],
   "source": [
    "d0=pd.read_csv('w0', sep='\\s+',header=0)\n",
    "d1=pd.read_csv('addS', sep='\\s+',header=0)\n",
    "d2=pd.read_csv('VS', sep='\\s+',header=0)\n",
    "d3=pd.read_csv('VS2', sep='\\s+',header=0)\n",
    "d4=pd.read_csv('VS22', sep='\\s+',header=0)\n",
    "d5=pd.read_csv('VMo', sep='\\s+',header=0)\n",
    "\n",
    "# cm-1 to Hz\n",
    "convert=29979245800.0 #*2*pi #cm^-1 to Hz\n",
    "hbar=6.582119569e-16 \n",
    "w0=d0['w0']*convert\n",
    "w1=d1['addS']*convert\n",
    "w2=d2['VS']*convert\n",
    "w3=d3['VS2']*convert\n",
    "w4=d4['VS22']*convert\n",
    "w5=d5['VMo']*convert #THZ to Hz\n",
    "\n",
    " # VMo already in Hz\n",
    "#w6=d6['x'] # w's for Mo_BCC already in Hz\n"
   ]
  },
  {
   "cell_type": "markdown",
   "metadata": {},
   "source": [
    "## Free Energy function\n",
    "## $$ F^{qh}=\\sum_{i}^{3N} [\\frac{\\hbar w_{i}}{2}+kTln[1-\\exp{\\frac{-\n",
    "\\hbar w_{i}}{kT}}]$$"
   ]
  },
  {
   "cell_type": "code",
   "execution_count": null,
   "metadata": {},
   "outputs": [],
   "source": [
    "def free_energy(w):\n",
    "   F=[]\n",
    "  \n",
    "   w = numpy.array(w)\n",
    "   T=800\n",
    "   temp=numpy.array([(hbar*i/2 + k*T*np.log(1-math.exp(-(hbar*i)/(k*T)))) for i in w])\n",
    "   F.append(numpy.sum(temp))\n",
    "\n",
    "   return F\n"
   ]
  },
  {
   "cell_type": "markdown",
   "metadata": {},
   "source": [
    "#### $$\\Delta F^{qh}(T)=F^{qh}_{defect}-F^{qh}_{pristine} $$"
   ]
  },
  {
   "cell_type": "code",
   "execution_count": null,
   "metadata": {},
   "outputs": [],
   "source": [
    "def DeltaF(A,B):\n",
    "   deltaF=[]\n",
    "   F1=free_energy(A)\n",
    "   F2=free_energy(B)\n",
    "   zip_object = zip(F1, F2)\n",
    "   for i, j in zip_object:    \n",
    "       deltaF.append(i-j)\n",
    "   return deltaF \n"
   ]
  },
  {
   "cell_type": "markdown",
   "metadata": {},
   "source": [
    "## Equilibirium Concentration function"
   ]
  },
  {
   "cell_type": "markdown",
   "metadata": {},
   "source": [
    "## $$ G^{d}_{f}(P,T)=F_{defect}(P,T)-F_{pristine}(P,T)+ P\\Delta V - \\sum_{i} \\Delta n_{i} \\mu_{i} $$"
   ]
  },
  {
   "cell_type": "code",
   "execution_count": null,
   "metadata": {},
   "outputs": [],
   "source": [
    "F_addS=DeltaF(w1,w0)\n",
    "addS = [E1-E0-a + F_addS for a in mu_S]\n",
    "print(np.shape(mu_S))\n",
    "VS = [E2-E0+a + DeltaF(w2,w0) for a in mu_S]\n",
    "VS2 = [E3-E0+2*a + DeltaF(w3,w0) for a in mu_S]\n",
    "VS22 = [E4-E0+2*a + DeltaF(w4,w0) for a in mu_S]\n",
    "VMo = [E5-E0+a + DeltaF(w5,w0) for a in mu_Mo]\n"
   ]
  },
  {
   "cell_type": "code",
   "execution_count": null,
   "metadata": {},
   "outputs": [],
   "source": [
    "p=arange(0,3010,100)\n",
    "\n",
    "#print(p*0.00096784110535406)\n",
    "plt.plot(p, addS, 'b', label='addon S')\n",
    "#plt.xlabel('Temperature K', fontsize=12)\n",
    "#plt.ylabel('Formation energies eV', fontsize=12)\n",
    "#plt.legend(fontsize=8)\n",
    "#\n",
    "#plt.savefig('addSvsT.png',dpi=1200)\n",
    "#plt.yticks(fontsize=10)\n",
    "#plt.tight_layout()\n",
    "plt.show()\n",
    "plt.plot(p, VS, 'r', label='Mono S vacancy')\n",
    "#plt.xlabel('Temperature K', fontsize=12)\n",
    "#plt.ylabel('Formation energies eV', fontsize=12)\n",
    "#plt.legend(fontsize=8)\n",
    "#\n",
    "#plt.yticks(fontsize=10)\n",
    "#plt.tight_layout()\n",
    "#\n",
    "#plt.savefig('VSvsT.png',dpi=1200)\n",
    "plt.show()\n",
    "plt.plot(p, VS22, 'g', label='di S vacancy(neig)') \n",
    "plt.plot(p, VS2, 'k', label='di S vacancy(up&down)')\n",
    "\n",
    "#plt.xlabel('Temperature K', fontsize=12)\n",
    "#plt.ylabel('Formation energies eV', fontsize=12)\n",
    "#plt.legend(fontsize=8)\n",
    "#\n",
    "#plt.savefig('disvsT.png',dpi=1200)\n",
    "plt.show()\n",
    "##new_names=['{}x{}x{}'.format(i,i,i) for i in range(4, 18, 2)]\n",
    "##plt.xticks(range(4, 18, 2), new_names, fontsize=16)\n",
    "#plt.yticks(fontsize=10)\n",
    "#plt.tight_layout()\n",
    "p2=arange(1.12e-15,1e-5,1e-9) \n",
    "plt.plot(p2, VMo, 'yellow', label='Mono Mo vacany') \n",
    "plt.xlabel('Temperature K', fontsize=12)\n",
    "plt.ylabel('Formation energies eV', fontsize=12)\n",
    "#plt.legend(fontsize=8)\n",
    "\n",
    "#\n",
    "#\n",
    "#plt.savefig('Ef_3vsT.png',dpi=1200)\n",
    "plt.show()"
   ]
  },
  {
   "cell_type": "code",
   "execution_count": null,
   "metadata": {},
   "outputs": [],
   "source": []
  },
  {
   "cell_type": "code",
   "execution_count": null,
   "metadata": {},
   "outputs": [],
   "source": []
  },
  {
   "cell_type": "code",
   "execution_count": null,
   "metadata": {},
   "outputs": [],
   "source": []
  },
  {
   "cell_type": "code",
   "execution_count": null,
   "metadata": {},
   "outputs": [],
   "source": []
  }
 ],
 "metadata": {
  "kernelspec": {
   "display_name": "Python 3",
   "language": "python",
   "name": "python3"
  },
  "language_info": {
   "codemirror_mode": {
    "name": "ipython",
    "version": 3
   },
   "file_extension": ".py",
   "mimetype": "text/x-python",
   "name": "python",
   "nbconvert_exporter": "python",
   "pygments_lexer": "ipython3",
   "version": "3.8.10"
  }
 },
 "nbformat": 4,
 "nbformat_minor": 2
}
