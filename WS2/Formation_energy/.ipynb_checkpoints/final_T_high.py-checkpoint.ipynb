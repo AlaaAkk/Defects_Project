{
 "cells": [
  {
   "cell_type": "code",
   "execution_count": null,
   "metadata": {},
   "outputs": [],
   "source": [
    "import  pandas as pd\n",
    "import matplotlib\n",
    "matplotlib.rcParams['text.usetex'] = True\n",
    "import matplotlib.pyplot as plt\n",
    "import numpy as np\n",
    "from numpy import array, reshape, zeros, append, arange\n",
    "import math\n",
    "from math import log, e, pi\n",
    "import numpy\n",
    "from sys import argv"
   ]
  },
  {
   "cell_type": "code",
   "execution_count": null,
   "metadata": {},
   "outputs": [],
   "source": [
    "def free_energy(omega):\n",
    "   F=[]\n",
    "  \n",
    "   omega = numpy.array(omega)\n",
    "   for T in arange(473,1600,10):\n",
    "      \n",
    "     temp3=numpy.array([(hb*i/2 + k*T*np.log(1-math.exp(-(hb*i)/(k*T)))) for i in omega])\n",
    "     F.append(numpy.sum(temp3))\n",
    "\n",
    "\n",
    "   return F"
   ]
  },
  {
   "cell_type": "code",
   "execution_count": null,
   "metadata": {},
   "outputs": [],
   "source": [
    "def DeltaF(X,Y):\n",
    "   deltaF=[]\n",
    "   F1=free_energy(X)\n",
    "   F2=free_energy(Y)\n",
    "   zip_object = zip(F1, F2)\n",
    "   for i, j in zip_object:    \n",
    "       deltaF.append(i-j)\n",
    "   return deltaF "
   ]
  },
  {
   "cell_type": "markdown",
   "metadata": {},
   "source": [
    " #### Total Energies in eV"
   ]
  },
  {
   "cell_type": "code",
   "execution_count": null,
   "metadata": {},
   "outputs": [],
   "source": [
    "E0=-11861477.311070437 # pristine\n",
    "E1=-11872355.158936081# addon S\n",
    "E2=-11850595.236526014 # mono S vacancy\n",
    "E3=-11839713.678986968 # di S vacancy up&down\n",
    "E4=-11839713.145423930 # di S vacancy neighboring\n",
    "E5=-11408771.970668823 # mono W vacancy\n",
    "E_WS2=-474458.138971034 # primtitive\n",
    "ES8=-87031.629750345    #8 atoms in unitcell of S8 ring\n",
    "EW=-905397.333160509 # W BCC "
   ]
  },
  {
   "cell_type": "code",
   "execution_count": null,
   "metadata": {},
   "outputs": [],
   "source": [
    "xr=np.array(np.arange(473,1600,10))\n",
    "xr=1/xr\n",
    "yr=(4.1879-(3209*xr))\n",
    "\n",
    "pS=np.exp(yr)\n"
   ]
  },
  {
   "cell_type": "markdown",
   "metadata": {},
   "source": [
    "#### Constants"
   ]
  },
  {
   "cell_type": "code",
   "execution_count": null,
   "metadata": {},
   "outputs": [],
   "source": [
    "pi=numpy.pi\n",
    "convert=29979245800.0*2*pi # cm^-1 to Hz"
   ]
  },
  {
   "cell_type": "markdown",
   "metadata": {},
   "source": [
    "#### Frequencies "
   ]
  },
  {
   "cell_type": "code",
   "execution_count": null,
   "metadata": {},
   "outputs": [],
   "source": [
    "d0=pd.read_csv('w0', sep='\\s+',header=0)\n",
    "d1=pd.read_csv('addS', sep='\\s+',header=0)\n",
    "d2=pd.read_csv('VS', sep='\\s+',header=0)\n",
    "d3=pd.read_csv('VS2', sep='\\s+',header=0)\n",
    "d4=pd.read_csv('VS22', sep='\\s+',header=0)\n",
    "d5=pd.read_csv('VW', sep='\\s+',header=0)\n",
    "dS=pd.read_csv('w', sep='\\s+',header=0)\n",
    "dW=pd.read_csv('W_BCC', sep='\\s+',header=0)\n",
    "\n",
    "wW=dW['x']*convert \n",
    "wS8=dS['x']*convert \n",
    "w0=d0['w0']*convert\n",
    "w1=d1['addS']*convert\n",
    "w2=d2['VS']*convert\n",
    "w3=d3['VS2']*convert\n",
    "w4=d4['VS22']*convert\n",
    "w5=d5['VW']*convert "
   ]
  },
  {
   "cell_type": "code",
   "execution_count": null,
   "metadata": {},
   "outputs": [],
   "source": [
    "\n",
    "p0=1013250  # atm to g/(cm s^2) \n",
    "#p=3.3108987*p0# at 1000 k\n",
    "kk=1.380649e-16 # erg/k (cm^2.g/ks^2)\n",
    "k=8.617333262145e-05 # ev/k\n",
    "h=6.62607015e-27  # erg.s \n",
    "hb=6.582119569e-16 # eV.s\n",
    "hbar=1.054571817e-27 # erg.s\n",
    "sigma=8\n",
    "m=4.258952992e-22 # 32.06*8 in amu changed to g\n",
    "IA=1.314051643394595e-37 # g.cm^2\n",
    "IB=1.314146807283309e-37\n",
    "IC=2.42660958899724e-37"
   ]
  },
  {
   "cell_type": "code",
   "execution_count": null,
   "metadata": {},
   "outputs": [],
   "source": [
    "fig = plt.figure()\n",
    "ax = plt.axes(projection='3d')\n",
    "for p in pS*p0: \n",
    "   D=[]\n",
    "   E=[]\n",
    "   mu_0=[]\n",
    "   mu_S8=[]\n",
    "   mu_S=[] \n",
    "   addS=[]\n",
    "   VS=[]\n",
    "   VS2=[]\n",
    "   VS22=[] \n",
    "   I=np.sqrt(IA)*np.sqrt(IB)*np.sqrt(IC)\n",
    "   for T in arange(473,1600,10):\n",
    "        A=np.log((((2*pi*m)**(3/2))*((kk*T)**(5/2)))/(p0*(h**3)))\n",
    "        B=np.log(np.sqrt(pi)/sigma)+ np.log((((8*pi*kk*T)/(h**2))**(3/2))*I)\n",
    "        temp=numpy.array([(np.log(1-math.exp(-(hbar*i)/(kk*T)))) for i in wS8])\n",
    "        C=np.sum(temp)\n",
    "        E.append(k*T*np.log(p/p0))\n",
    "        mu_0.append(-k*T*(A+B-C)) \n",
    "        \n",
    "\n",
    "#print('E',E)\n",
    "#print('mu_0', mu_0)\n",
    "   temp2=numpy.array([(hb*i)/(2) for i in wS8])\n",
    "   D=np.sum(temp2)\n",
    "   mu_S8=np.array(mu_0) + np.array(E) + D + ES8 \n",
    "   mu_S=np.array(mu_S8)/8\n",
    "   addS = [E1-E0-a + b for a, b in zip(mu_S, DeltaF(w1,w0))]\n",
    "   VS = [E2-E0+a + b for a, b in zip(mu_S, DeltaF(w2,w0))]\n",
    "   VS2 = [E3-E0+2*a + b for a, b in zip(mu_S, DeltaF(w3,w0))]\n",
    "   VS22 = [E4-E0+2*a + b for a, b in zip(mu_S, DeltaF(w4,w0))]\n",
    "#VMo = [E5-E0+a + b for a, b in zip(mu_Mo, DeltaF(w5,w0))]\n",
    "   \n",
    "   #mu_S8=np.array(mu_0) + np.array(E) + D + ESe8 \n",
    "   \n",
    "   T=arange(473,1600,10)\n",
    "   a = np.empty(np.size(addS))\n",
    "   a.fill(p)\n",
    " #  ax = plt.axes(projection='3d')\n",
    "# Data for a three-dimensional line\n",
    "   z1 = a/p0\n",
    "    \n",
    "#   print(z1)\n",
    "\n",
    "\n",
    "\n",
    "   ax.plot3D(T, z1,np.array(addS),'r')\n",
    "   ax.plot3D(T, z1,np.array(VS),'b')\n",
    "   ax.plot3D(T, z1,np.array(VS2),'g')\n",
    "   ax.plot3D(T, z1,np.array(VS22),'k')\n",
    "ax.set_xlabel(' Tempreture [k]')\n",
    "ax.set_zlabel(' Formation Energy [eV]')\n",
    "ax.set_ylabel(' Pressure [atm]')\n",
    "#print(y22)\n",
    "#plt.savefig('3D.png',dpi=400) \n",
    "plt.show()\n"
   ]
  },
  {
   "cell_type": "code",
   "execution_count": null,
   "metadata": {},
   "outputs": [],
   "source": []
  },
  {
   "cell_type": "code",
   "execution_count": null,
   "metadata": {},
   "outputs": [],
   "source": []
  }
 ],
 "metadata": {
  "kernelspec": {
   "display_name": "Python 3",
   "language": "python",
   "name": "python3"
  },
  "language_info": {
   "codemirror_mode": {
    "name": "ipython",
    "version": 3
   },
   "file_extension": ".py",
   "mimetype": "text/x-python",
   "name": "python",
   "nbconvert_exporter": "python",
   "pygments_lexer": "ipython3",
   "version": "3.8.10"
  }
 },
 "nbformat": 4,
 "nbformat_minor": 2
}
