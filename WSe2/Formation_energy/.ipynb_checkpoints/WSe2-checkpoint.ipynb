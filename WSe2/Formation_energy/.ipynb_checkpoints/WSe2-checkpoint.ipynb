{
 "cells": [
  {
   "cell_type": "code",
   "execution_count": 5,
   "metadata": {},
   "outputs": [],
   "source": [
    "import  pandas as pd\n",
    "import matplotlib.pyplot as plt\n",
    "import numpy as np\n",
    "from numpy import array, reshape, zeros, append, arange\n",
    "import math\n",
    "from math import log, e, pi\n",
    "import numpy\n",
    "from sys import argv"
   ]
  },
  {
   "cell_type": "markdown",
   "metadata": {},
   "source": [
    "# Formation energy as  chemical potential vary\n"
   ]
  },
  {
   "cell_type": "markdown",
   "metadata": {},
   "source": [
    " #### Total Energies in eV"
   ]
  },
  {
   "cell_type": "code",
   "execution_count": 6,
   "metadata": {},
   "outputs": [],
   "source": [
    "E0=-14644858.463124419 # pristine\n",
    "E1=-14711404.113635940 # addon S\n",
    "E2=-14578308.639903018 # mono S vacancy\n",
    "E3=-14511759.369944071 # di S vacancy up&down\n",
    "E4=-14511758.944663303 # di S vacancy neighboring\n",
    "E5=-14192154.320500717 # mono Mo vacancy\n",
    "E_WSe2=-585793.321771426 # primtitive\n",
    "ESe8=-532375.657399940   #8 atoms in unitcell\n",
    "mu_Se8=ESe8/8\n",
    "EW=-905397.333160509 # Total energy in eV\n",
    "mu_Wbcc=EW/2\n",
    "\n"
   ]
  },
  {
   "cell_type": "markdown",
   "metadata": {},
   "source": [
    " ## $$ E^{d}_{f}=E_{defect}(n_{i}+\\Delta n_{i})-E_{pristine}(n_{i}) - \\sum_{i} \\Delta n_{i} \\mu_{i} $$\n",
    " \n",
    "## $$  E^{Bulk}_{WSe_{2}}-2\\mu_{Se8} \\leq \\mu_{W} \\leq \\mu^{Bulk}_{W} $$\n",
    "## $$ \\frac{1}{2}(E_{WSe2}-\\mu^{Bulk}_{W})\\leq \\mu_{Se} \\leq \\mu_{Se8} $$\n"
   ]
  },
  {
   "cell_type": "code",
   "execution_count": 7,
   "metadata": {},
   "outputs": [
    {
     "ename": "NameError",
     "evalue": "name 'E_WS2' is not defined",
     "output_type": "error",
     "traceback": [
      "\u001b[0;31m---------------------------------------\u001b[0m",
      "\u001b[0;31mNameError\u001b[0mTraceback (most recent call last)",
      "\u001b[0;32m<ipython-input-7-cd5400286783>\u001b[0m in \u001b[0;36m<module>\u001b[0;34m\u001b[0m\n\u001b[0;32m----> 1\u001b[0;31m \u001b[0mmu_Se0_i\u001b[0m\u001b[0;34m=\u001b[0m\u001b[0;36m0.5\u001b[0m\u001b[0;34m*\u001b[0m\u001b[0;34m(\u001b[0m\u001b[0mE_WS2\u001b[0m\u001b[0;34m-\u001b[0m\u001b[0mmu_Wbcc\u001b[0m\u001b[0;34m)\u001b[0m\u001b[0;34m\u001b[0m\u001b[0;34m\u001b[0m\u001b[0m\n\u001b[0m\u001b[1;32m      2\u001b[0m \u001b[0mmu_W_i\u001b[0m\u001b[0;34m=\u001b[0m\u001b[0mE_WSe2\u001b[0m\u001b[0;34m-\u001b[0m\u001b[0;36m2\u001b[0m\u001b[0;34m*\u001b[0m\u001b[0mmu_Se8\u001b[0m\u001b[0;34m\u001b[0m\u001b[0;34m\u001b[0m\u001b[0m\n\u001b[1;32m      3\u001b[0m \u001b[0mmu_W_f\u001b[0m\u001b[0;34m=\u001b[0m\u001b[0mmu_Wbcc\u001b[0m\u001b[0;34m\u001b[0m\u001b[0;34m\u001b[0m\u001b[0m\n\u001b[1;32m      4\u001b[0m \u001b[0mmu_Se0_f\u001b[0m\u001b[0;34m=\u001b[0m\u001b[0mmu_Se8\u001b[0m\u001b[0;34m\u001b[0m\u001b[0;34m\u001b[0m\u001b[0m\n\u001b[1;32m      5\u001b[0m \u001b[0mmu_Se0\u001b[0m\u001b[0;34m=\u001b[0m\u001b[0marange\u001b[0m\u001b[0;34m(\u001b[0m\u001b[0mmu_Se0_i\u001b[0m\u001b[0;34m,\u001b[0m\u001b[0mmu_Se0_f\u001b[0m\u001b[0;34m,\u001b[0m\u001b[0;36m0.05\u001b[0m\u001b[0;34m)\u001b[0m\u001b[0;34m\u001b[0m\u001b[0;34m\u001b[0m\u001b[0m\n",
      "\u001b[0;31mNameError\u001b[0m: name 'E_WS2' is not defined"
     ]
    }
   ],
   "source": [
    "mu_Se0_i=0.5*(E_WSe2-mu_Wbcc)\n",
    "mu_W_i=E_WSe2-2*mu_Se8\n",
    "mu_W_f=mu_Wbcc\n",
    "mu_Se0_f=mu_Se8\n",
    "mu_Se0=arange(mu_Se0_i,mu_Se0_f,0.05)\n",
    "mu_W0=arange(mu_W_i,mu_W_f,0.05)"
   ]
  },
  {
   "cell_type": "code",
   "execution_count": null,
   "metadata": {},
   "outputs": [],
   "source": [
    "Ef_addSe =[] \n",
    "Ef_VSe = []\n",
    "Ef_VSe2 =[]\n",
    "Ef_VSe22=[]\n",
    "Ef_W=[]\n",
    "\n",
    "for i in mu_Se0:\n",
    "    Ef_addSe.append(E1-E0-i) \n",
    "    Ef_VSe.append(E2-E0+i)\n",
    "    Ef_VSe2.append(E3-E0+2*i) \n",
    "    Ef_VSe22.append(E4-E0+2*i)\n",
    " \n",
    "for j in mu_W0:\n",
    "    Ef_W.append(E5-E0+j)\n",
    "\n",
    "plt.plot(mu_Se0-mu_Se0_f,Ef_addSe,'b', label='addon Se') \n",
    "plt.plot(mu_Se0-mu_Se0_f,Ef_VSe,'r', label='Mono Se vacancy') \n",
    "plt.plot(mu_Se0-mu_Se0_f,Ef_VSe22, 'g', label='di Se vacancy(neig)') \n",
    "plt.plot(mu_Se0-mu_Se0_f,Ef_VSe2, 'k', label='di Se vacancy(up&down)') \n",
    "#plt.plot(mu_Mo0-mu_Mo_f,Ef_Mo, 'yellow', label='Mono Mo vacancy') \n",
    "plt.xlabel('\\Delta mu_Se', fontsize=12)\n",
    "plt.ylabel('Formation energies eV', fontsize=12)\n",
    "plt.legend(fontsize=6)\n",
    "plt.yticks(fontsize=10)\n",
    "plt.tight_layout()\n",
    "\n",
    "\n",
    "#plt.savefig('Efvsmu_S.png',dpi=1200)\n",
    "\n",
    "plt.show()\n"
   ]
  },
  {
   "cell_type": "code",
   "execution_count": null,
   "metadata": {},
   "outputs": [],
   "source": [
    "plt.plot(mu_W0-mu_W_f,Ef_W, 'red', label='Mono W vacancy') \n",
    "#plt.plot(T, VMo, 'yellow', label='Mono Mo vacany') \n",
    "plt.xlabel('\\Delta mu_W', fontsize=12)\n",
    "plt.ylabel('Formation energies eV', fontsize=12)\n",
    "plt.legend(fontsize=6)\n",
    "plt.yticks(fontsize=10)\n",
    "plt.tight_layout()\n",
    "#plt.savefig('Efvsmu_W.png',dpi=1200)\n",
    "plt.show()  "
   ]
  },
  {
   "cell_type": "code",
   "execution_count": null,
   "metadata": {},
   "outputs": [],
   "source": [
    "EW=-905397.333160509 # Total energy in eV\n",
    "mu_Wbcc=EW/2\n",
    "d6=pd.read_csv('F_W', sep='\\s+',header=0)\n",
    "Fphon=d6['x']*0.01 # kj/mol to eV\n",
    "V=  0.313300E+02  # volume of unitcell A^3\n",
    "p= 6.459505648209699e-30 #8.4473718e-12 # atm\n",
    "PV=p*V*6.3242093e-07 # to eV\n",
    "T=arange(100,1010,10)\n",
    "mu_Mo=(1/2)*(EW+PV+ Fphon)\n",
    "\n",
    "plt.plot(T,mu_Mo, 'blue', label='For W')\n",
    "plt.xlabel('T in K', fontsize=12)\n",
    "plt.ylabel('mu eV', fontsize=12)\n",
    "plt.legend(fontsize=6)\n",
    "plt.yticks(fontsize=10)\n",
    "plt.tight_layout()\n",
    "plt.savefig('mu_WvsT.png',dpi=1200)"
   ]
  },
  {
   "cell_type": "code",
   "execution_count": null,
   "metadata": {},
   "outputs": [],
   "source": []
  }
 ],
 "metadata": {
  "kernelspec": {
   "display_name": "Python 3",
   "language": "python",
   "name": "python3"
  },
  "language_info": {
   "codemirror_mode": {
    "name": "ipython",
    "version": 3
   },
   "file_extension": ".py",
   "mimetype": "text/x-python",
   "name": "python",
   "nbconvert_exporter": "python",
   "pygments_lexer": "ipython3",
   "version": "3.8.10"
  }
 },
 "nbformat": 4,
 "nbformat_minor": 2
}
